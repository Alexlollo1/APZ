{
 "cells": [
  {
   "cell_type": "markdown",
   "metadata": {},
   "source": [
    "Засоби підготовки та аналіз даних\n",
    "Лабораторна робота 3\n",
    "ФБ-33 Сенчило Олексій\n",
    "\n",
    "Мета роботи: ознайомитися з системою контролю версій GitHub, навчитися створювати\n",
    "прості веб-додатки для обміну результатами досліджень із використанням модуля\n",
    "Streamlit.\n",
    "\n",
    "Хід роботи\n",
    "Створив веб-додаток із використанням модуля Streamlit\n",
    "\n",
    "1) Створіть dropdown список, який дозволить обрати часовий ряд VCI, TCI, VHI для\n",
    "набору даних із лабораторної роботи 2;"
   ]
  },
  {
   "cell_type": "code",
   "execution_count": null,
   "metadata": {
    "vscode": {
     "languageId": "plaintext"
    }
   },
   "outputs": [],
   "source": [
    "index_type = st.selectbox(\"Оберіть індекс\", [\"VCI\", \"TCI\", \"VHI\"])\n"
   ]
  },
  {
   "cell_type": "markdown",
   "metadata": {},
   "source": [
    "2) Створіть dropdown список, який дозволить вибрати область, для якої буде\n",
    "виконуватись аналіз;"
   ]
  },
  {
   "cell_type": "code",
   "execution_count": null,
   "metadata": {
    "vscode": {
     "languageId": "plaintext"
    }
   },
   "outputs": [],
   "source": [
    "area = st.selectbox(\"Оберіть область\", list(areas.values()))\n"
   ]
  },
  {
   "cell_type": "markdown",
   "metadata": {},
   "source": [
    "3) Створіть slider, який дозволить зазначити інтервал тижнів, за які відбираються дані;"
   ]
  },
  {
   "cell_type": "code",
   "execution_count": null,
   "metadata": {
    "vscode": {
     "languageId": "plaintext"
    }
   },
   "outputs": [],
   "source": [
    "week_range = st.slider(\"Інтервал тижнів\", 1, 52, (1, 52))\n"
   ]
  },
  {
   "cell_type": "markdown",
   "metadata": {},
   "source": [
    "4) Створіть slider, який дозволить зазначити інтервал років, за які відбираються дані;"
   ]
  },
  {
   "cell_type": "code",
   "execution_count": null,
   "metadata": {
    "vscode": {
     "languageId": "plaintext"
    }
   },
   "outputs": [],
   "source": [
    "year_range = st.slider(\"Інтервал років\", int(VHI['Year'].min()), int(VHI['Year'].max()), (int(VHI['Year'].min()), int(VHI['Year'].max())))\n"
   ]
  },
  {
   "cell_type": "markdown",
   "metadata": {},
   "source": [
    "5) Створіть button для скидання всіх фільтрів і повернення до початкового стану даних\n",
    "(відповідно інтерактивні елементи повинні мати початкові значення);"
   ]
  },
  {
   "cell_type": "code",
   "execution_count": null,
   "metadata": {
    "vscode": {
     "languageId": "plaintext"
    }
   },
   "outputs": [],
   "source": [
    "if st.button(\"Скинути фільтри\"):\n",
    "    st.experimental_rerun()\n"
   ]
  },
  {
   "cell_type": "markdown",
   "metadata": {},
   "source": [
    "6) Створіть три вкладки для відображення таблиці з відфільтрованими даними,\n",
    "відповідного до неї графіка та графіка порівняння даних по областях."
   ]
  },
  {
   "cell_type": "code",
   "execution_count": null,
   "metadata": {
    "vscode": {
     "languageId": "plaintext"
    }
   },
   "outputs": [],
   "source": [
    "tab1, tab2, tab3 = st.tabs([\"Таблиця\", \"Графік по області\", \"Порівняння з іншими\"])"
   ]
  },
  {
   "cell_type": "markdown",
   "metadata": {},
   "source": [
    "7) Перший графік повинен відображати відфільтровані дані (часові ряди за діапазон\n",
    "років, що обмежені інтервалом тижнів). Другий графік має відображати порівняння\n",
    "значень VCI, TCI або VHI (залежно від обраної опції у списку dropdown) для обраної\n",
    "області з усіма іншими областями за вказаний часовий інтервал. Продумайте\n",
    "вигляд цих графіків."
   ]
  },
  {
   "cell_type": "markdown",
   "metadata": {},
   "source": [
    "Перший графік"
   ]
  },
  {
   "cell_type": "code",
   "execution_count": null,
   "metadata": {
    "vscode": {
     "languageId": "plaintext"
    }
   },
   "outputs": [],
   "source": [
    "with tab2:\n",
    "    st.subheader(f\"{index_type} по тижнях у {area}\")\n",
    "    fig = px.line(filtered_df, x=\"Week\", y=index_type, color=\"Year\",\n",
    "                  markers=True, title=f\"{index_type} у {area}\")\n",
    "    st.plotly_chart(fig, use_container_width=True)"
   ]
  },
  {
   "cell_type": "markdown",
   "metadata": {},
   "source": [
    "Другий графік"
   ]
  },
  {
   "cell_type": "code",
   "execution_count": null,
   "metadata": {
    "vscode": {
     "languageId": "plaintext"
    }
   },
   "outputs": [],
   "source": [
    "with tab3:\n",
    "    st.subheader(f\"Порівняння {index_type} по всіх областях\")\n",
    "    comparison_df = VHI[\n",
    "        (VHI['Week'] >= week_range[0]) & (VHI['Week'] <= week_range[1]) &\n",
    "        (VHI['Year'] >= year_range[0]) & (VHI['Year'] <= year_range[1])\n",
    "    ]\n",
    "    fig_comp = px.line(comparison_df, x=\"Week\", y=index_type, color=\"area\",\n",
    "                       line_group=\"area\", title=f\"Порівняння {index_type} по областях\")\n",
    "    st.plotly_chart(fig_comp, use_container_width=True)"
   ]
  },
  {
   "cell_type": "markdown",
   "metadata": {},
   "source": [
    "8) Створіть два checkbox для сортування даних за зростанням та спаданням значень\n",
    "VCI, TCI або VHI (залежно від обраної опції у списку dropdown). Продумайте реакцію"
   ]
  },
  {
   "cell_type": "code",
   "execution_count": null,
   "metadata": {
    "vscode": {
     "languageId": "plaintext"
    }
   },
   "outputs": [],
   "source": [
    "sort_asc = st.checkbox(\"Сортувати за зростанням\")\n",
    "sort_desc = st.checkbox(\"Сортувати за спаданням\")"
   ]
  },
  {
   "cell_type": "markdown",
   "metadata": {},
   "source": [
    "9) Інтерактивні елементи мають бути розміщений в одній колонці, а графіки з\n",
    "таблицею — в іншій.\n",
    "\n",
    "Хотів використати col1 та col2 але одна із колонок повторювалася(там де інтерактивні елементи)"
   ]
  }
 ],
 "metadata": {
  "language_info": {
   "name": "python"
  }
 },
 "nbformat": 4,
 "nbformat_minor": 2
}
