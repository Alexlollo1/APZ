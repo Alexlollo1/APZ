{
 "cells": [
  {
   "cell_type": "markdown",
   "metadata": {},
   "source": [
    "Засоби підготовки та аналіз даних"
   ]
  },
  {
   "cell_type": "markdown",
   "metadata": {},
   "source": [
    "Лабораторна робота 2"
   ]
  },
  {
   "cell_type": "markdown",
   "metadata": {},
   "source": [
    "ФБ-33 Сенчило Олексій"
   ]
  },
  {
   "cell_type": "markdown",
   "metadata": {},
   "source": [
    "Хід роботи\n",
    "Встановив в Anaconda prompt модуль tabulate та імпортував необхідні бібліотеки"
   ]
  },
  {
   "cell_type": "code",
   "execution_count": null,
   "metadata": {
    "vscode": {
     "languageId": "plaintext"
    }
   },
   "outputs": [],
   "source": [
    "import urllib.request\n",
    "import pandas as pd\n",
    "from datetime import datetime\n",
    "import os\n",
    "import time\n",
    "import re\n",
    "import tabulate\n",
    "print(\"Setup complete!\") "
   ]
  },
  {
   "cell_type": "markdown",
   "metadata": {},
   "source": [
    "Setup complete!"
   ]
  },
  {
   "cell_type": "markdown",
   "metadata": {},
   "source": [
    "Завантажив дані для кожної області України за певний період часу (від year1 до year2) і тип даних (type_data) і зберігає їх у директорії. \n",
    "Також зробив щоб очищувалися дані в вказаній директорії якщо користувач погоджується"
   ]
  },
  {
   "cell_type": "code",
   "execution_count": null,
   "metadata": {
    "vscode": {
     "languageId": "plaintext"
    }
   },
   "outputs": [],
   "source": [
    "def download_csv(country, year_1, year_2, type_data, directory):\n",
    "    for province_ID in range(1, 28):\n",
    "        url=f\"https://www.star.nesdis.noaa.gov/smcd/emb/vci/VH/get_TS_admin.php?country={country}&provinceID={province_ID}&year1={year_1}&year2={year_2}&type={type_data}\"\n",
    "        \n",
    "        retries = 3\n",
    "        for attempt in range(retries):\n",
    "            try:\n",
    "                with urllib.request.urlopen(url) as wp:\n",
    "                    text = wp.read()\n",
    "                break\n",
    "            except urllib.error.URLError as e:\n",
    "                print(f\"Error downloading data for ID {province_ID}: {e}\")\n",
    "                if attempt < retries - 1:\n",
    "                    print(f\"Retrying download for ID {province_ID} in 5 seconds...\")\n",
    "                    time.sleep(5)\n",
    "                else:\n",
    "                    print(f\"Failed to download data for ID {province_ID} after {retries} attempts.\")\n",
    "                    continue\n",
    "\n",
    "        current_time = datetime.now().strftime(\"%a, %Y-%m-%d %H:%M:%S\")\n",
    "        filename = f'NOAA_ID_{province_ID}_{current_time}.csv'\n",
    "        filepath = os.path.join(directory, filename)\n",
    "\n",
    "        try:\n",
    "            with open(filepath, 'wb') as out:\n",
    "                out.write(text)\n",
    "            print(f\"Proccess is downloading:\\nfile_csv:{filename}...\\n\")\n",
    "            print(f\"File_csv:{filename} downloaded successfully.\")\n",
    "            print(f\"=\"*80)\n",
    "        except IOError as e:\n",
    "            print(f\"Error writing file {filename}: {e}\")\n",
    "\n",
    "\n",
    "def clean_directory(directory):\n",
    "    if not os.path.exists(directory):\n",
    "        os.makedirs(directory)\n",
    "        print(f\"[+] Directory created successfully.\")\n",
    "    \n",
    "    if input(\"Do you want to clean the directory? (y/n): \").lower() == 'y':\n",
    "        for filename in os.listdir(directory):\n",
    "            filepath = os.path.join(directory, filename)\n",
    "            if os.path.exists(filepath):\n",
    "                os.unlink(filepath)\n",
    "        print(f\"[+] Directory cleaned successfully.\\n\")                \n",
    "    else:\n",
    "        print(f\"[+] Directory cleaning skipped.\\n\") "
   ]
  },
  {
   "cell_type": "code",
   "execution_count": null,
   "metadata": {
    "vscode": {
     "languageId": "plaintext"
    }
   },
   "outputs": [],
   "source": [
    "country=\"UKR\"\n",
    "year_1=1981\n",
    "year_2=2024\n",
    "type_data=\"Mean\"\n",
    "directory=\"C:/Users/GORO/Desktop/VHI\"\n",
    "\n",
    "clean_directory(directory)    \n",
    "download_csv(country, year_1, year_2, type_data, directory)"
   ]
  },
  {
   "cell_type": "markdown",
   "metadata": {},
   "source": [
    "[+] Directory created successfully.\n",
    "Do you want to clean the directory? (y/n):  y\n",
    "[+] Directory cleaned successfully.\n",
    "\n",
    "Proccess is downloading:\n",
    "file_csv:NOAA_ID_1_2025-04-25_15-02-18.csv...\n",
    "\n",
    "File_csv:NOAA_ID_1_2025-04-25_15-02-18.csv downloaded successfully.\n",
    "================================================================================\n",
    "Proccess is downloading:\n",
    "file_csv:NOAA_ID_2_2025-04-25_15-02-19.csv...\n",
    "\n",
    "File_csv:NOAA_ID_2_2025-04-25_15-02-19.csv downloaded successfully.\n",
    "================================================================================\n",
    "Proccess is downloading:\n",
    "file_csv:NOAA_ID_3_2025-04-25_15-02-21.csv...\n",
    "\n",
    "File_csv:NOAA_ID_3_2025-04-25_15-02-21.csv downloaded successfully.\n",
    "================================================================================\n",
    "Proccess is downloading:\n",
    "file_csv:NOAA_ID_4_2025-04-25_15-02-22.csv...\n",
    "\n",
    "File_csv:NOAA_ID_4_2025-04-25_15-02-22.csv downloaded successfully.\n",
    "================================================================================\n",
    "Proccess is downloading:\n",
    "file_csv:NOAA_ID_5_2025-04-25_15-02-23.csv...\n",
    "\n",
    "File_csv:NOAA_ID_5_2025-04-25_15-02-23.csv downloaded successfully.\n",
    "================================================================================\n",
    "Proccess is downloading:\n",
    "file_csv:NOAA_ID_6_2025-04-25_15-02-24.csv...\n",
    "\n",
    "File_csv:NOAA_ID_6_2025-04-25_15-02-24.csv downloaded successfully.\n",
    "================================================================================\n",
    "Proccess is downloading:\n",
    "file_csv:NOAA_ID_7_2025-04-25_15-02-25.csv...\n",
    "\n",
    "File_csv:NOAA_ID_7_2025-04-25_15-02-25.csv downloaded successfully.\n",
    "================================================================================\n",
    "Proccess is downloading:\n",
    "file_csv:NOAA_ID_8_2025-04-25_15-02-26.csv...\n",
    "\n",
    "File_csv:NOAA_ID_8_2025-04-25_15-02-26.csv downloaded successfully.\n",
    "================================================================================\n",
    "Proccess is downloading:\n",
    "file_csv:NOAA_ID_9_2025-04-25_15-02-27.csv...\n",
    "\n",
    "File_csv:NOAA_ID_9_2025-04-25_15-02-27.csv downloaded successfully.\n",
    "================================================================================\n",
    "Proccess is downloading:\n",
    "file_csv:NOAA_ID_10_2025-04-25_15-02-27.csv...\n",
    "\n",
    "File_csv:NOAA_ID_10_2025-04-25_15-02-27.csv downloaded successfully.\n",
    "================================================================================\n",
    "Proccess is downloading:\n",
    "file_csv:NOAA_ID_11_2025-04-25_15-02-28.csv...\n",
    "\n",
    "File_csv:NOAA_ID_11_2025-04-25_15-02-28.csv downloaded successfully.\n",
    "================================================================================\n",
    "Proccess is downloading:\n",
    "file_csv:NOAA_ID_12_2025-04-25_15-02-29.csv...\n",
    "\n",
    "File_csv:NOAA_ID_12_2025-04-25_15-02-29.csv downloaded successfully.\n",
    "================================================================================\n",
    "Proccess is downloading:\n",
    "file_csv:NOAA_ID_13_2025-04-25_15-02-30.csv...\n",
    "\n",
    "File_csv:NOAA_ID_13_2025-04-25_15-02-30.csv downloaded successfully.\n",
    "================================================================================\n",
    "Proccess is downloading:\n",
    "file_csv:NOAA_ID_14_2025-04-25_15-02-31.csv...\n",
    "\n",
    "File_csv:NOAA_ID_14_2025-04-25_15-02-31.csv downloaded successfully.\n",
    "================================================================================\n",
    "Proccess is downloading:\n",
    "file_csv:NOAA_ID_15_2025-04-25_15-02-32.csv...\n",
    "\n",
    "File_csv:NOAA_ID_15_2025-04-25_15-02-32.csv downloaded successfully.\n",
    "================================================================================\n",
    "Proccess is downloading:\n",
    "file_csv:NOAA_ID_16_2025-04-25_15-02-33.csv...\n",
    "\n",
    "File_csv:NOAA_ID_16_2025-04-25_15-02-33.csv downloaded successfully.\n",
    "================================================================================\n",
    "Proccess is downloading:\n",
    "file_csv:NOAA_ID_17_2025-04-25_15-02-34.csv...\n",
    "\n",
    "File_csv:NOAA_ID_17_2025-04-25_15-02-34.csv downloaded successfully.\n",
    "================================================================================\n",
    "Proccess is downloading:\n",
    "file_csv:NOAA_ID_18_2025-04-25_15-02-35.csv...\n",
    "\n",
    "File_csv:NOAA_ID_18_2025-04-25_15-02-35.csv downloaded successfully.\n",
    "================================================================================\n",
    "Proccess is downloading:\n",
    "file_csv:NOAA_ID_19_2025-04-25_15-02-36.csv...\n",
    "\n",
    "File_csv:NOAA_ID_19_2025-04-25_15-02-36.csv downloaded successfully.\n",
    "================================================================================\n",
    "Proccess is downloading:\n",
    "file_csv:NOAA_ID_20_2025-04-25_15-02-37.csv...\n",
    "\n",
    "File_csv:NOAA_ID_20_2025-04-25_15-02-37.csv downloaded successfully.\n",
    "================================================================================\n",
    "Proccess is downloading:\n",
    "file_csv:NOAA_ID_21_2025-04-25_15-02-38.csv...\n",
    "\n",
    "File_csv:NOAA_ID_21_2025-04-25_15-02-38.csv downloaded successfully.\n",
    "================================================================================\n",
    "Proccess is downloading:\n",
    "file_csv:NOAA_ID_22_2025-04-25_15-02-40.csv...\n",
    "\n",
    "File_csv:NOAA_ID_22_2025-04-25_15-02-40.csv downloaded successfully.\n",
    "================================================================================\n",
    "Proccess is downloading:\n",
    "file_csv:NOAA_ID_23_2025-04-25_15-02-41.csv...\n",
    "\n",
    "File_csv:NOAA_ID_23_2025-04-25_15-02-41.csv downloaded successfully.\n",
    "================================================================================\n",
    "Proccess is downloading:\n",
    "file_csv:NOAA_ID_24_2025-04-25_15-02-42.csv...\n",
    "\n",
    "File_csv:NOAA_ID_24_2025-04-25_15-02-42.csv downloaded successfully.\n",
    "================================================================================\n",
    "Proccess is downloading:\n",
    "file_csv:NOAA_ID_25_2025-04-25_15-02-43.csv...\n",
    "\n",
    "File_csv:NOAA_ID_25_2025-04-25_15-02-43.csv downloaded successfully.\n",
    "================================================================================\n",
    "Proccess is downloading:\n",
    "file_csv:NOAA_ID_26_2025-04-25_15-02-44.csv...\n",
    "\n",
    "File_csv:NOAA_ID_26_2025-04-25_15-02-44.csv downloaded successfully.\n",
    "================================================================================\n",
    "Proccess is downloading:\n",
    "file_csv:NOAA_ID_27_2025-04-25_15-02-45.csv...\n",
    "\n",
    "File_csv:NOAA_ID_27_2025-04-25_15-02-45.csv downloaded successfully.\n",
    "================================================================================"
   ]
  },
  {
   "cell_type": "markdown",
   "metadata": {},
   "source": [
    "Зчитування завантажених текстових файлів у фрейми. \n",
    "Задача реалізована у вигляді окремої процедури, яка на вхід приймає шлях до директорії, де зберігаються файли"
   ]
  },
  {
   "cell_type": "code",
   "execution_count": null,
   "metadata": {
    "vscode": {
     "languageId": "plaintext"
    }
   },
   "outputs": [],
   "source": [
    "def remove_html_tags(text):\n",
    "    clean = re.compile('<.*?>')\n",
    "    return re.sub(clean, '', text)\n",
    "\n",
    "def read_csv_file(filepath):\n",
    "    headers = ['Year', 'Week', 'SMN', 'SMT', 'VCI', 'TCI', 'VHI', 'empty']\n",
    "    try:\n",
    "        df = pd.read_csv(filepath, header=1, names=headers, converters={'Year': remove_html_tags})\n",
    "        df = df.drop(df.loc[df['VHI'] == -1].index)\n",
    "        df = df.drop(\"empty\", axis=1)\n",
    "        df = df.drop(df.index[-1])          \n",
    "        return df\n",
    "    \n",
    "    except pd.errors.ParserError as e:\n",
    "        print(f\"Error reading {filepath}: {e}\")\n",
    "        return None\n",
    "\n",
    "def read_data(directory):\n",
    "    data_frames = []\n",
    "    for filename in os.listdir(directory):\n",
    "        filepath = os.path.join(directory, filename)\n",
    "        if filepath.endswith('.csv'):\n",
    "            province_ID = filename.split('_')[2] if len(filename.split('_')) >= 3 else None                          \n",
    "                      \n",
    "            df = read_csv_file(filepath)  \n",
    "            if int(province_ID) not in [12, 20]:          \n",
    "                if df is not None:\n",
    "                    df.insert(0, \"PROVINCE_ID\", int(province_ID), True)                   \n",
    "                    df[\"Week\"] = df[\"Week\"].astype(int)\n",
    "                    df[\"Year\"] = df[\"Year\"].astype(int)               \n",
    "                    data_frames.append(df)                 \n",
    "    \n",
    "    data_frames.sort(key=lambda x: int(x[\"PROVINCE_ID\"].iloc[0]))\n",
    "    data_frames = pd.concat(data_frames).drop_duplicates().reset_index(drop=True)                      \n",
    "    return data_frames\n",
    "\n",
    "\n",
    "def print_dataframe(df):\n",
    "    print(tabulate.tabulate(df, headers='keys', tablefmt=\"heavy_grid\", showindex=False))"
   ]
  },
  {
   "cell_type": "code",
   "execution_count": null,
   "metadata": {
    "vscode": {
     "languageId": "plaintext"
    }
   },
   "outputs": [],
   "source": [
    "directory = \"C:/Users/GORO/Desktop/VHI\"\n",
    "data_frames_1 = read_data(directory)\n",
    "print_dataframe(data_frames_1.head(10))\n",
    "print_dataframe(data_frames_1.tail(10))  "
   ]
  },
  {
   "cell_type": "markdown",
   "metadata": {},
   "source": [
    "┏━━━━━━━━━━━━━━━┳━━━━━━━━┳━━━━━━━━┳━━━━━━━┳━━━━━━━━┳━━━━━━━┳━━━━━━━┳━━━━━━━┓\n",
    "┃   PROVINCE_ID ┃   Year ┃   Week ┃   SMN ┃    SMT ┃   VCI ┃   TCI ┃   VHI ┃\n",
    "┣━━━━━━━━━━━━━━━╋━━━━━━━━╋━━━━━━━━╋━━━━━━━╋━━━━━━━━╋━━━━━━━╋━━━━━━━╋━━━━━━━┫\n",
    "┃             1 ┃   1982 ┃      1 ┃ 0.053 ┃ 260.31 ┃ 45.01 ┃ 39.46 ┃ 42.23 ┃\n",
    "┣━━━━━━━━━━━━━━━╋━━━━━━━━╋━━━━━━━━╋━━━━━━━╋━━━━━━━━╋━━━━━━━╋━━━━━━━╋━━━━━━━┫\n",
    "┃             1 ┃   1982 ┃      2 ┃ 0.054 ┃ 262.29 ┃ 46.83 ┃ 31.75 ┃ 39.29 ┃\n",
    "┣━━━━━━━━━━━━━━━╋━━━━━━━━╋━━━━━━━━╋━━━━━━━╋━━━━━━━━╋━━━━━━━╋━━━━━━━╋━━━━━━━┫\n",
    "┃             1 ┃   1982 ┃      3 ┃ 0.055 ┃ 263.82 ┃ 48.13 ┃ 27.24 ┃ 37.68 ┃\n",
    "┣━━━━━━━━━━━━━━━╋━━━━━━━━╋━━━━━━━━╋━━━━━━━╋━━━━━━━━╋━━━━━━━╋━━━━━━━╋━━━━━━━┫\n",
    "┃             1 ┃   1982 ┃      4 ┃ 0.053 ┃ 265.33 ┃ 46.09 ┃ 23.91 ┃ 35    ┃\n",
    "┣━━━━━━━━━━━━━━━╋━━━━━━━━╋━━━━━━━━╋━━━━━━━╋━━━━━━━━╋━━━━━━━╋━━━━━━━╋━━━━━━━┫\n",
    "┃             1 ┃   1982 ┃      5 ┃ 0.05  ┃ 265.66 ┃ 41.46 ┃ 26.65 ┃ 34.06 ┃\n",
    "┣━━━━━━━━━━━━━━━╋━━━━━━━━╋━━━━━━━━╋━━━━━━━╋━━━━━━━━╋━━━━━━━╋━━━━━━━╋━━━━━━━┫\n",
    "┃             1 ┃   1982 ┃      6 ┃ 0.048 ┃ 266.55 ┃ 36.56 ┃ 29.46 ┃ 33.01 ┃\n",
    "┣━━━━━━━━━━━━━━━╋━━━━━━━━╋━━━━━━━━╋━━━━━━━╋━━━━━━━━╋━━━━━━━╋━━━━━━━╋━━━━━━━┫\n",
    "┃             1 ┃   1982 ┃      7 ┃ 0.048 ┃ 267.84 ┃ 32.17 ┃ 31.14 ┃ 31.65 ┃\n",
    "┣━━━━━━━━━━━━━━━╋━━━━━━━━╋━━━━━━━━╋━━━━━━━╋━━━━━━━━╋━━━━━━━╋━━━━━━━╋━━━━━━━┫\n",
    "┃             1 ┃   1982 ┃      8 ┃ 0.05  ┃ 269.3  ┃ 30.3  ┃ 32.5  ┃ 31.4  ┃\n",
    "┣━━━━━━━━━━━━━━━╋━━━━━━━━╋━━━━━━━━╋━━━━━━━╋━━━━━━━━╋━━━━━━━╋━━━━━━━╋━━━━━━━┫\n",
    "┃             1 ┃   1982 ┃      9 ┃ 0.052 ┃ 270.75 ┃ 28.23 ┃ 35.22 ┃ 31.73 ┃\n",
    "┣━━━━━━━━━━━━━━━╋━━━━━━━━╋━━━━━━━━╋━━━━━━━╋━━━━━━━━╋━━━━━━━╋━━━━━━━╋━━━━━━━┫\n",
    "┃             1 ┃   1982 ┃     10 ┃ 0.056 ┃ 272.73 ┃ 25.25 ┃ 37.63 ┃ 31.44 ┃\n",
    "┗━━━━━━━━━━━━━━━┻━━━━━━━━┻━━━━━━━━┻━━━━━━━┻━━━━━━━━┻━━━━━━━┻━━━━━━━┻━━━━━━━┛\n",
    "┏━━━━━━━━━━━━━━━┳━━━━━━━━┳━━━━━━━━┳━━━━━━━┳━━━━━━━━┳━━━━━━━┳━━━━━━━┳━━━━━━━┓\n",
    "┃   PROVINCE_ID ┃   Year ┃   Week ┃   SMN ┃    SMT ┃   VCI ┃   TCI ┃   VHI ┃\n",
    "┣━━━━━━━━━━━━━━━╋━━━━━━━━╋━━━━━━━━╋━━━━━━━╋━━━━━━━━╋━━━━━━━╋━━━━━━━╋━━━━━━━┫\n",
    "┃            27 ┃   2025 ┃      5 ┃ 0.123 ┃ 270.85 ┃ 78.42 ┃ 10.61 ┃ 44.52 ┃\n",
    "┣━━━━━━━━━━━━━━━╋━━━━━━━━╋━━━━━━━━╋━━━━━━━╋━━━━━━━━╋━━━━━━━╋━━━━━━━╋━━━━━━━┫\n",
    "┃            27 ┃   2025 ┃      6 ┃ 0.137 ┃ 272.69 ┃ 79.17 ┃ 10.96 ┃ 45.07 ┃\n",
    "┣━━━━━━━━━━━━━━━╋━━━━━━━━╋━━━━━━━━╋━━━━━━━╋━━━━━━━━╋━━━━━━━╋━━━━━━━╋━━━━━━━┫\n",
    "┃            27 ┃   2025 ┃      7 ┃ 0.149 ┃ 274.49 ┃ 79.63 ┃  9.33 ┃ 44.48 ┃\n",
    "┣━━━━━━━━━━━━━━━╋━━━━━━━━╋━━━━━━━━╋━━━━━━━╋━━━━━━━━╋━━━━━━━╋━━━━━━━╋━━━━━━━┫\n",
    "┃            27 ┃   2025 ┃      8 ┃ 0.163 ┃ 276.35 ┃ 81.47 ┃  8.17 ┃ 44.82 ┃\n",
    "┣━━━━━━━━━━━━━━━╋━━━━━━━━╋━━━━━━━━╋━━━━━━━╋━━━━━━━━╋━━━━━━━╋━━━━━━━╋━━━━━━━┫\n",
    "┃            27 ┃   2025 ┃      9 ┃ 0.178 ┃ 278.55 ┃ 82.96 ┃  6.37 ┃ 44.66 ┃\n",
    "┣━━━━━━━━━━━━━━━╋━━━━━━━━╋━━━━━━━━╋━━━━━━━╋━━━━━━━━╋━━━━━━━╋━━━━━━━╋━━━━━━━┫\n",
    "┃            27 ┃   2025 ┃     10 ┃ 0.191 ┃ 281.07 ┃ 82.36 ┃  4.1  ┃ 43.23 ┃\n",
    "┣━━━━━━━━━━━━━━━╋━━━━━━━━╋━━━━━━━━╋━━━━━━━╋━━━━━━━━╋━━━━━━━╋━━━━━━━╋━━━━━━━┫\n",
    "┃            27 ┃   2025 ┃     11 ┃ 0.203 ┃ 282.93 ┃ 79.56 ┃  2.7  ┃ 41.13 ┃\n",
    "┣━━━━━━━━━━━━━━━╋━━━━━━━━╋━━━━━━━━╋━━━━━━━╋━━━━━━━━╋━━━━━━━╋━━━━━━━╋━━━━━━━┫\n",
    "┃            27 ┃   2025 ┃     12 ┃ 0.212 ┃ 284.75 ┃ 76.01 ┃  4.5  ┃ 40.26 ┃\n",
    "┣━━━━━━━━━━━━━━━╋━━━━━━━━╋━━━━━━━━╋━━━━━━━╋━━━━━━━━╋━━━━━━━╋━━━━━━━╋━━━━━━━┫\n",
    "┃            27 ┃   2025 ┃     13 ┃ 0.217 ┃ 285.92 ┃ 70.2  ┃  7.16 ┃ 38.68 ┃\n",
    "┣━━━━━━━━━━━━━━━╋━━━━━━━━╋━━━━━━━━╋━━━━━━━╋━━━━━━━━╋━━━━━━━╋━━━━━━━╋━━━━━━━┫\n",
    "┃            27 ┃   2025 ┃     14 ┃ 0.22  ┃ 286.6  ┃ 61.53 ┃ 11.18 ┃ 36.35 ┃\n",
    "┗━━━━━━━━━━━━━━━┻━━━━━━━━┻━━━━━━━━┻━━━━━━━┻━━━━━━━━┻━━━━━━━┻━━━━━━━┻━━━━━━━┛"
   ]
  },
  {
   "cell_type": "code",
   "execution_count": null,
   "metadata": {
    "vscode": {
     "languageId": "plaintext"
    }
   },
   "outputs": [],
   "source": [
    "def searching(directory):\n",
    "    for file_name in os.listdir(directory):\n",
    "        file_path = os.path.join(directory, file_name)\n",
    "        if file_path.endswith('.csv'):\n",
    "            search_id_city(file_path)\n",
    "\n",
    "def search_id_city(file_path):\n",
    "    with open(file_path, 'r') as file:\n",
    "        content = file.read()\n",
    "        search_results = re.findall(r\"= (\\d+): ([\\w'' '-]+),\", content)     \n",
    "        print(search_results) \n",
    "        return search_results"
   ]
  },
  {
   "cell_type": "code",
   "execution_count": null,
   "metadata": {
    "vscode": {
     "languageId": "plaintext"
    }
   },
   "outputs": [],
   "source": [
    "directory = \"C:/Users/GORO/Desktop/VHI\"\n",
    "searching(directory)"
   ]
  },
  {
   "cell_type": "markdown",
   "metadata": {},
   "source": [
    "[('10', \"Khmel'nyts'kyy\")]\n",
    "[('11', 'Kiev')]\n",
    "[('12', 'Kiev City')]\n",
    "[('13', 'Kirovohrad')]\n",
    "[('14', \"Luhans'k\")]\n",
    "[('15', \"L'viv\")]\n",
    "[('16', 'Mykolayiv')]\n",
    "[('17', 'Odessa')]\n",
    "[('18', 'Poltava')]\n",
    "[('19', 'Rivne')]\n",
    "[('1', 'Cherkasy')]\n",
    "[('20', \"Sevastopol'\")]\n",
    "[('21', 'Sumy')]\n",
    "[('22', \"Ternopil'\")]\n",
    "[('23', 'Transcarpathia')]\n",
    "[('24', 'Vinnytsya')]\n",
    "[('25', 'Volyn')]\n",
    "[('26', 'Zaporizhzhya')]\n",
    "[('27', 'Zhytomyr')]\n",
    "[('2', 'Chernihiv')]\n",
    "[('3', 'Chernivtsi')]\n",
    "[('4', 'Crimea')]\n",
    "[('5', \"Dnipropetrovs'k\")]\n",
    "[('6', \"Donets'k\")]\n",
    "[('7', \"Ivano-Frankivs'k\")]\n",
    "[('8', 'Kharkiv')]\n",
    "[('9', 'Kherson')]"
   ]
  },
  {
   "cell_type": "markdown",
   "metadata": {},
   "source": [
    "Змінив індекси областей, які використані на порталі NOAA на наступні\n",
    "  №  Назва                               №   Назва\n",
    "    1. Вінницька                           13. Миколаївська\n",
    "    2. Волинська                           14. Одеська\n",
    "    3. Дніпропетровська                    15. Полтавська\n",
    "    4. Донецька                            16. Рівенська   \n",
    "    5. Житомирська                         17. Сумська\n",
    "    6. Закарпатська                        18. Тернопільська\n",
    "    7. Запорізька                          19. Харківська\n",
    "    8. Івано-Франківська                   20. Херсонська\n",
    "    9. Київська                            21. Хмельницька\n",
    "    10.Кіровоградська                      22. Черкаська    \n",
    "    11. Львівська                          23. Чернівецька    \n",
    "    12. Луганська                          24. Чернігівська    \n",
    "                                           25. Республіка Крим    "
   ]
  },
  {
   "cell_type": "code",
   "execution_count": null,
   "metadata": {
    "vscode": {
     "languageId": "plaintext"
    }
   },
   "outputs": [],
   "source": [
    "def replace_function(data_frames):\n",
    "    \n",
    "    province_ID_dictionary = {\n",
    "        16: 13,\n",
    "        27: 5, \n",
    "        10: 21, \n",
    "        3: 23, \n",
    "        11: 9,\n",
    "        25: 2,\n",
    "        17: 14,\n",
    "        21: 17,\n",
    "        1: 22,    \n",
    "        18: 15,\n",
    "        6: 4,\n",
    "        9: 20,   \n",
    "        8: 19,\n",
    "        19: 16,\n",
    "        23: 6,\n",
    "        7: 8,\n",
    "        5: 3,\n",
    "        26: 7,\n",
    "        2: 24,\n",
    "        4: 25,\n",
    "        15: 11,\n",
    "        22: 18,\n",
    "        13: 10,\n",
    "        24: 1,\n",
    "        14: 12,\n",
    "    }    \n",
    "        \n",
    "    data_frames_cp = data_frames.copy()\n",
    "    data_frames_cp = data_frames_cp.replace({\"PROVINCE_ID\": province_ID_dictionary})   \n",
    "      \n",
    "    return data_frames_cp"
   ]
  },
  {
   "cell_type": "code",
   "execution_count": null,
   "metadata": {
    "vscode": {
     "languageId": "plaintext"
    }
   },
   "outputs": [],
   "source": [
    "directory = \"C:/Users/GORO/Desktop/VHI\"\n",
    "data_frames = read_data(directory)        \n",
    "data_frames_replace = replace_function(data_frames_1) \n",
    "print_dataframe(data_frames_replace.head(10))\n",
    "print_dataframe(data_frames_replace.tail(10))"
   ]
  },
  {
   "cell_type": "markdown",
   "metadata": {},
   "source": [
    "┏━━━━━━━━━━━━━━━┳━━━━━━━━┳━━━━━━━━┳━━━━━━━┳━━━━━━━━┳━━━━━━━┳━━━━━━━┳━━━━━━━┓\n",
    "┃   PROVINCE_ID ┃   Year ┃   Week ┃   SMN ┃    SMT ┃   VCI ┃   TCI ┃   VHI ┃\n",
    "┣━━━━━━━━━━━━━━━╋━━━━━━━━╋━━━━━━━━╋━━━━━━━╋━━━━━━━━╋━━━━━━━╋━━━━━━━╋━━━━━━━┫\n",
    "┃            22 ┃   1982 ┃      1 ┃ 0.053 ┃ 260.31 ┃ 45.01 ┃ 39.46 ┃ 42.23 ┃\n",
    "┣━━━━━━━━━━━━━━━╋━━━━━━━━╋━━━━━━━━╋━━━━━━━╋━━━━━━━━╋━━━━━━━╋━━━━━━━╋━━━━━━━┫\n",
    "┃            22 ┃   1982 ┃      2 ┃ 0.054 ┃ 262.29 ┃ 46.83 ┃ 31.75 ┃ 39.29 ┃\n",
    "┣━━━━━━━━━━━━━━━╋━━━━━━━━╋━━━━━━━━╋━━━━━━━╋━━━━━━━━╋━━━━━━━╋━━━━━━━╋━━━━━━━┫\n",
    "┃            22 ┃   1982 ┃      3 ┃ 0.055 ┃ 263.82 ┃ 48.13 ┃ 27.24 ┃ 37.68 ┃\n",
    "┣━━━━━━━━━━━━━━━╋━━━━━━━━╋━━━━━━━━╋━━━━━━━╋━━━━━━━━╋━━━━━━━╋━━━━━━━╋━━━━━━━┫\n",
    "┃            22 ┃   1982 ┃      4 ┃ 0.053 ┃ 265.33 ┃ 46.09 ┃ 23.91 ┃ 35    ┃\n",
    "┣━━━━━━━━━━━━━━━╋━━━━━━━━╋━━━━━━━━╋━━━━━━━╋━━━━━━━━╋━━━━━━━╋━━━━━━━╋━━━━━━━┫\n",
    "┃            22 ┃   1982 ┃      5 ┃ 0.05  ┃ 265.66 ┃ 41.46 ┃ 26.65 ┃ 34.06 ┃\n",
    "┣━━━━━━━━━━━━━━━╋━━━━━━━━╋━━━━━━━━╋━━━━━━━╋━━━━━━━━╋━━━━━━━╋━━━━━━━╋━━━━━━━┫\n",
    "┃            22 ┃   1982 ┃      6 ┃ 0.048 ┃ 266.55 ┃ 36.56 ┃ 29.46 ┃ 33.01 ┃\n",
    "┣━━━━━━━━━━━━━━━╋━━━━━━━━╋━━━━━━━━╋━━━━━━━╋━━━━━━━━╋━━━━━━━╋━━━━━━━╋━━━━━━━┫\n",
    "┃            22 ┃   1982 ┃      7 ┃ 0.048 ┃ 267.84 ┃ 32.17 ┃ 31.14 ┃ 31.65 ┃\n",
    "┣━━━━━━━━━━━━━━━╋━━━━━━━━╋━━━━━━━━╋━━━━━━━╋━━━━━━━━╋━━━━━━━╋━━━━━━━╋━━━━━━━┫\n",
    "┃            22 ┃   1982 ┃      8 ┃ 0.05  ┃ 269.3  ┃ 30.3  ┃ 32.5  ┃ 31.4  ┃\n",
    "┣━━━━━━━━━━━━━━━╋━━━━━━━━╋━━━━━━━━╋━━━━━━━╋━━━━━━━━╋━━━━━━━╋━━━━━━━╋━━━━━━━┫\n",
    "┃            22 ┃   1982 ┃      9 ┃ 0.052 ┃ 270.75 ┃ 28.23 ┃ 35.22 ┃ 31.73 ┃\n",
    "┣━━━━━━━━━━━━━━━╋━━━━━━━━╋━━━━━━━━╋━━━━━━━╋━━━━━━━━╋━━━━━━━╋━━━━━━━╋━━━━━━━┫\n",
    "┃            22 ┃   1982 ┃     10 ┃ 0.056 ┃ 272.73 ┃ 25.25 ┃ 37.63 ┃ 31.44 ┃\n",
    "┗━━━━━━━━━━━━━━━┻━━━━━━━━┻━━━━━━━━┻━━━━━━━┻━━━━━━━━┻━━━━━━━┻━━━━━━━┻━━━━━━━┛\n",
    "┏━━━━━━━━━━━━━━━┳━━━━━━━━┳━━━━━━━━┳━━━━━━━┳━━━━━━━━┳━━━━━━━┳━━━━━━━┳━━━━━━━┓\n",
    "┃   PROVINCE_ID ┃   Year ┃   Week ┃   SMN ┃    SMT ┃   VCI ┃   TCI ┃   VHI ┃\n",
    "┣━━━━━━━━━━━━━━━╋━━━━━━━━╋━━━━━━━━╋━━━━━━━╋━━━━━━━━╋━━━━━━━╋━━━━━━━╋━━━━━━━┫\n",
    "┃             5 ┃   2025 ┃      5 ┃ 0.123 ┃ 270.85 ┃ 78.42 ┃ 10.61 ┃ 44.52 ┃\n",
    "┣━━━━━━━━━━━━━━━╋━━━━━━━━╋━━━━━━━━╋━━━━━━━╋━━━━━━━━╋━━━━━━━╋━━━━━━━╋━━━━━━━┫\n",
    "┃             5 ┃   2025 ┃      6 ┃ 0.137 ┃ 272.69 ┃ 79.17 ┃ 10.96 ┃ 45.07 ┃\n",
    "┣━━━━━━━━━━━━━━━╋━━━━━━━━╋━━━━━━━━╋━━━━━━━╋━━━━━━━━╋━━━━━━━╋━━━━━━━╋━━━━━━━┫\n",
    "┃             5 ┃   2025 ┃      7 ┃ 0.149 ┃ 274.49 ┃ 79.63 ┃  9.33 ┃ 44.48 ┃\n",
    "┣━━━━━━━━━━━━━━━╋━━━━━━━━╋━━━━━━━━╋━━━━━━━╋━━━━━━━━╋━━━━━━━╋━━━━━━━╋━━━━━━━┫\n",
    "┃             5 ┃   2025 ┃      8 ┃ 0.163 ┃ 276.35 ┃ 81.47 ┃  8.17 ┃ 44.82 ┃\n",
    "┣━━━━━━━━━━━━━━━╋━━━━━━━━╋━━━━━━━━╋━━━━━━━╋━━━━━━━━╋━━━━━━━╋━━━━━━━╋━━━━━━━┫\n",
    "┃             5 ┃   2025 ┃      9 ┃ 0.178 ┃ 278.55 ┃ 82.96 ┃  6.37 ┃ 44.66 ┃\n",
    "┣━━━━━━━━━━━━━━━╋━━━━━━━━╋━━━━━━━━╋━━━━━━━╋━━━━━━━━╋━━━━━━━╋━━━━━━━╋━━━━━━━┫\n",
    "┃             5 ┃   2025 ┃     10 ┃ 0.191 ┃ 281.07 ┃ 82.36 ┃  4.1  ┃ 43.23 ┃\n",
    "┣━━━━━━━━━━━━━━━╋━━━━━━━━╋━━━━━━━━╋━━━━━━━╋━━━━━━━━╋━━━━━━━╋━━━━━━━╋━━━━━━━┫\n",
    "┃             5 ┃   2025 ┃     11 ┃ 0.203 ┃ 282.93 ┃ 79.56 ┃  2.7  ┃ 41.13 ┃\n",
    "┣━━━━━━━━━━━━━━━╋━━━━━━━━╋━━━━━━━━╋━━━━━━━╋━━━━━━━━╋━━━━━━━╋━━━━━━━╋━━━━━━━┫\n",
    "┃             5 ┃   2025 ┃     12 ┃ 0.212 ┃ 284.75 ┃ 76.01 ┃  4.5  ┃ 40.26 ┃\n",
    "┣━━━━━━━━━━━━━━━╋━━━━━━━━╋━━━━━━━━╋━━━━━━━╋━━━━━━━━╋━━━━━━━╋━━━━━━━╋━━━━━━━┫\n",
    "┃             5 ┃   2025 ┃     13 ┃ 0.217 ┃ 285.92 ┃ 70.2  ┃  7.16 ┃ 38.68 ┃\n",
    "┣━━━━━━━━━━━━━━━╋━━━━━━━━╋━━━━━━━━╋━━━━━━━╋━━━━━━━━╋━━━━━━━╋━━━━━━━╋━━━━━━━┫\n",
    "┃             5 ┃   2025 ┃     14 ┃ 0.22  ┃ 286.6  ┃ 61.53 ┃ 11.18 ┃ 36.35 ┃\n",
    "┗━━━━━━━━━━━━━━━┻━━━━━━━━┻━━━━━━━━┻━━━━━━━┻━━━━━━━━┻━━━━━━━┻━━━━━━━┻━━━━━━━┛"
   ]
  },
  {
   "cell_type": "markdown",
   "metadata": {},
   "source": [
    "Процедура для формування вибірок наступного виду\n",
    "1) Ряд VHI для області за вказаний рік, пошук екстремумів(min та max)\n",
    "2) Ряд VHI за вказаний діапазон років для вказаних областей, виявити  роки, протягом яких екстремальні посухи торкнулися більше вказаного відсотка областей по Україні (20% - 5 областей з 25)\n",
    "3) Аналогічно для помірних посух\n"
   ]
  },
  {
   "cell_type": "code",
   "execution_count": null,
   "metadata": {
    "vscode": {
     "languageId": "plaintext"
    }
   },
   "outputs": [],
   "source": [
    "def VHI_extremes(province_ID, year_1, year_2, df):\n",
    "    \n",
    "    PROVINCE_NAME_dict = {1: 'Вінницька',  2: 'Волинська',  3: 'Дніпропетровська',  4: 'Донецька',  5: 'Житомирська',\n",
    "        6: 'Закарпатська',  7: 'Запорізька',  8: 'Івано-Франківська',  9: 'Київська',  10: 'Кіровоградська',\n",
    "        11: 'Луганська',  12: 'Львівська',  13: 'Миколаївська',  14: 'Одеська',  15: 'Полтавська',\n",
    "        16: 'Рівенська',  17: 'Сумська',  18: 'Тернопільська',  19: 'Харківська',  20: 'Херсонська',\n",
    "        21: 'Хмельницька',  22: 'Черкаська',  23: 'Чернівецька',  24: 'Чернігівська',  25: 'Республіка Крим'}\n",
    "    \n",
    "    PROVINCE_NAME = PROVINCE_NAME_dict[province_ID]\n",
    "    \n",
    "    filtered_df = df[(df[\"PROVINCE_ID\"] == province_ID) & (df[\"Year\"] >= year_1) & (df[\"Year\"] <= year_2)]\n",
    "    vhi_values = filtered_df['VHI']\n",
    "    \n",
    "    # Filter out -1 values before calculating min and max\n",
    "    vhi_values_filtered = vhi_values[vhi_values != -1]\n",
    "    \n",
    "    if not vhi_values_filtered.empty:\n",
    "        min_value = vhi_values_filtered.min()\n",
    "        max_value = vhi_values_filtered.max()    \n",
    "    else:\n",
    "        min_value = None\n",
    "        max_value = None\n",
    "    \n",
    "    return [province_ID, PROVINCE_NAME, min_value, max_value]\n",
    "\n",
    "def VHI_main():\n",
    "    directory = \"/home/kali/Desktop/data_analysis/workspace/lab_2_venv/data_csv\"\n",
    "    data_frames_1 = read_data(directory)          \n",
    "    data_frames_replace = replace_function(data_frames_1) \n",
    "    \n",
    "    year_1 = 2024\n",
    "    year_2 = 2024\n",
    "    \n",
    "    vhi_extremes_data = []\n",
    "    headers = [\"Province ID\", \"PROVINCE_NAME\", \"Min VHI\", \"Max VHI\"]\n",
    "    \n",
    "    for province_ID in range(1, 26):  \n",
    "        vhi_extremes_data.append(VHI_extremes(province_ID, year_1, year_2, data_frames_replace)) \n",
    "    print(tabulate.tabulate(vhi_extremes_data, headers=headers, tablefmt=\"github\")) "
   ]
  },
  {
   "cell_type": "code",
   "execution_count": null,
   "metadata": {
    "vscode": {
     "languageId": "plaintext"
    }
   },
   "outputs": [],
   "source": [
    "VHI_main()"
   ]
  },
  {
   "cell_type": "markdown",
   "metadata": {},
   "source": [
    "|   Province ID | PROVINCE_NAME     |   Min VHI |   Max VHI |\n",
    "|---------------|-------------------|-----------|-----------|\n",
    "|             1 | Вінницька         |     28.83 |     54.56 |\n",
    "|             2 | Волинська         |     39.94 |     62.34 |\n",
    "|             3 | Дніпропетровська  |     19    |     52.22 |\n",
    "|             4 | Донецька          |     24.36 |     50.33 |\n",
    "|             5 | Житомирська       |     37.66 |     56.83 |\n",
    "|             6 | Закарпатська      |     37.49 |     61.48 |\n",
    "|             7 | Запорізька        |     20.31 |     47.59 |\n",
    "|             8 | Івано-Франківська |     40.11 |     56.71 |\n",
    "|             9 | Київська          |     33.41 |     55.4  |\n",
    "|            10 | Кіровоградська    |     21.08 |     49.51 |\n",
    "|            11 | Луганська         |     39.9  |     58.22 |\n",
    "|            12 | Львівська         |     24.69 |     50.97 |\n",
    "|            13 | Миколаївська      |     22.31 |     55.45 |\n",
    "|            14 | Одеська           |     28.42 |     68.43 |\n",
    "|            15 | Полтавська        |     23.9  |     57.31 |\n",
    "|            16 | Рівенська         |     42.49 |     60.24 |\n",
    "|            17 | Сумська           |     28.38 |     62.33 |\n",
    "|            18 | Тернопільська     |     39.76 |     57.43 |\n",
    "|            19 | Харківська        |     23.83 |     56.98 |\n",
    "|            20 | Херсонська        |     19.01 |     43.96 |\n",
    "|            21 | Хмельницька       |     39.04 |     57.05 |\n",
    "|            22 | Черкаська         |     27.78 |     55.96 |\n",
    "|            23 | Чернівецька       |     37.68 |     54.64 |\n",
    "|            24 | Чернігівська      |     29.79 |     65.99 |\n",
    "|            25 | Республіка Крим   |     21.63 |     47.7  |"
   ]
  },
  {
   "cell_type": "code",
   "execution_count": null,
   "metadata": {
    "vscode": {
     "languageId": "plaintext"
    }
   },
   "outputs": [],
   "source": [
    "def VHI_extremes(province_ID, year, df):\n",
    "    \n",
    "    PROVINCE_NAME_dict = {1: 'Вінницька',  2: 'Волинська',  3: 'Дніпропетровська',  4: 'Донецька',  5: 'Житомирська',\n",
    "        6: 'Закарпатська',  7: 'Запорізька',  8: 'Івано-Франківська',  9: 'Київська',  10: 'Кіровоградська',\n",
    "        11: 'Луганська',  12: 'Львівська',  13: 'Миколаївська',  14: 'Одеська',  15: 'Полтавська',\n",
    "        16: 'Рівенська',  17: 'Сумська',  18: 'Тернопільська',  19: 'Харківська',  20: 'Херсонська',\n",
    "        21: 'Хмельницька',  22: 'Черкаська',  23: 'Чернівецька',  24: 'Чернігівська',  25: 'Республіка Крим'}\n",
    "    \n",
    "    PROVINCE_NAME = PROVINCE_NAME_dict[province_ID]\n",
    "    \n",
    "    filtered_df = df[(df[\"PROVINCE_ID\"] == province_ID) & (df[\"Year\"] == year)]\n",
    "    vhi_values = filtered_df['VHI']     \n",
    "    vhi_values_filtered = vhi_values[vhi_values != -1]\n",
    "    \n",
    "    if not vhi_values_filtered.empty:\n",
    "        min_value = vhi_values_filtered.min()\n",
    "        max_value = vhi_values_filtered.max()    \n",
    "    else:\n",
    "        min_value = None\n",
    "        max_value = None\n",
    "    \n",
    "    return [province_ID, PROVINCE_NAME, year, min_value, max_value, vhi_values.tolist()[:10]]  # Convert VHI series to list\n",
    "\n",
    "def Task_main():\n",
    "    directory = \"/home/kali/Desktop/data_analysis/workspace/lab_2_venv/data_csv\"\n",
    "    data_frames_1 = read_data(directory)        \n",
    "    data_frames_replace = replace_function(data_frames_1) \n",
    "    \n",
    "    year=2020\n",
    "    province_ID = 10\n",
    "           \n",
    "    vhi_extremes_data = []\n",
    "    headers = [\"Province ID\", \"PROVINCE_NAME\", \"Year\", \"Min VHI\", \"Max VHI\", \"VHI\"]\n",
    "    \n",
    "    for province_ID in range(1, 26):  \n",
    "        vhi_extremes_data.append(VHI_extremes(province_ID, year, data_frames_replace))        \n",
    "    print(tabulate.tabulate(vhi_extremes_data, headers=headers, tablefmt=\"github\"))"
   ]
  },
  {
   "cell_type": "code",
   "execution_count": null,
   "metadata": {
    "vscode": {
     "languageId": "plaintext"
    }
   },
   "outputs": [],
   "source": [
    "Task_main()"
   ]
  },
  {
   "cell_type": "markdown",
   "metadata": {},
   "source": [
    "|   Province ID | PROVINCE_NAME     |   Year |   Min VHI |   Max VHI | VHI                                                                    |\n",
    "|---------------|-------------------|--------|-----------|-----------|------------------------------------------------------------------------|\n",
    "|             1 | Вінницька         |   2020 |     34.48 |     64.12 | [40.92, 43.19, 44.74, 45.29, 44.8, 43.92, 43.1, 42.88, 43.71, 45.61]   |\n",
    "|             2 | Волинська         |   2020 |     39.48 |     61.93 | [48.95, 49.23, 49.29, 49.4, 49.75, 50.26, 51.12, 51.59, 51.52, 51.72]  |\n",
    "|             3 | Дніпропетровська  |   2020 |     19.4  |     68.14 | [47.23, 46.99, 46.92, 46.55, 45.87, 45.14, 43.96, 43.39, 43.41, 43.13] |\n",
    "|             4 | Донецька          |   2020 |     17.88 |     59.14 | [44.72, 46.28, 47.98, 48.67, 48.03, 46.47, 43.85, 42.14, 40.76, 39.92] |\n",
    "|             5 | Житомирська       |   2020 |     35.05 |     58.33 | [42.82, 43.69, 44.52, 45.71, 45.62, 45.13, 45.76, 46.88, 47.05, 46.88] |\n",
    "|             6 | Закарпатська      |   2020 |     38.94 |     68.67 | [39.29, 39.08, 38.94, 39.47, 40.11, 41.64, 44.34, 47.42, 50.08, 52.64] |\n",
    "|             7 | Запорізька        |   2020 |     18.27 |     66.4  | [41.12, 41.58, 42.6, 42.46, 42.69, 42.25, 41.21, 41.04, 40.99, 40.42]  |\n",
    "|             8 | Івано-Франківська |   2020 |     39.78 |     62.91 | [44.11, 43.55, 43.18, 43.63, 43.27, 42.6, 42.66, 45.04, 47.26, 49.49]  |\n",
    "|             9 | Київська          |   2020 |     29.27 |     56.3  | [37.78, 38.41, 39.74, 41.9, 43.53, 43.37, 41.5, 39.53, 38.9, 39.07]    |\n",
    "|            10 | Кіровоградська    |   2020 |     22.73 |     63.63 | [39.74, 41.57, 42.45, 42.45, 41.3, 41.19, 41.17, 40.63, 40.22, 39.33]  |\n",
    "|            11 | Луганська         |   2020 |     41.35 |     63.06 | [45.02, 45.81, 46.16, 46.2, 46.67, 47.14, 48.05, 49.84, 51.32, 52.14]  |\n",
    "|            12 | Львівська         |   2020 |     21.29 |     64.39 | [48.84, 49.57, 48.91, 48.11, 45.53, 42.67, 40.47, 40.27, 40.19, 40.25] |\n",
    "|            13 | Миколаївська      |   2020 |     19.28 |     58.11 | [39.11, 39.9, 40.48, 40.82, 40.44, 40.61, 40.84, 41.65, 42.02, 41.88]  |\n",
    "|            14 | Одеська           |   2020 |     22.77 |     46.71 | [39.27, 40.51, 40.52, 41.39, 41.29, 41.17, 40.68, 41.47, 42.42, 42.58] |\n",
    "|            15 | Полтавська        |   2020 |     26.22 |     64.77 | [43.53, 44.0, 44.41, 44.99, 45.05, 43.83, 40.25, 37.56, 36.75, 36.15]  |\n",
    "|            16 | Рівенська         |   2020 |     37.68 |     66.01 | [44.97, 46.42, 46.36, 46.42, 46.78, 46.49, 47.49, 49.82, 50.68, 51.55] |\n",
    "|            17 | Сумська           |   2020 |     24.52 |     72.11 | [39.09, 40.71, 42.68, 46.15, 49.01, 49.21, 45.51, 40.86, 39.6, 40.16]  |\n",
    "|            18 | Тернопільська     |   2020 |     40.2  |     68.55 | [41.75, 43.9, 45.12, 45.32, 44.78, 43.67, 43.46, 44.86, 46.62, 48.32]  |\n",
    "|            19 | Харківська        |   2020 |     20.89 |     66.26 | [51.61, 52.53, 51.83, 52.64, 51.71, 48.7, 44.13, 41.16, 40.29, 40.16]  |\n",
    "|            20 | Херсонська        |   2020 |     24.49 |     63.49 | [45.94, 45.28, 44.67, 44.62, 44.56, 44.91, 44.9, 45.07, 45.25, 45.0]   |\n",
    "|            21 | Хмельницька       |   2020 |     37.43 |     67.65 | [40.56, 42.8, 44.59, 45.19, 44.02, 42.72, 42.89, 44.73, 46.63, 47.96]  |\n",
    "|            22 | Черкаська         |   2020 |     29.29 |     60.9  | [37.8, 39.94, 41.75, 42.76, 42.19, 41.29, 40.53, 39.7, 39.11, 38.47]   |\n",
    "|            23 | Чернівецька       |   2020 |     42.25 |     66.4  | [45.74, 45.54, 44.7, 44.35, 43.29, 42.42, 42.25, 43.95, 45.52, 47.07]  |\n",
    "|            24 | Чернігівська      |   2020 |     23.16 |     66.55 | [38.33, 37.57, 37.48, 40.47, 44.28, 46.02, 44.54, 42.12, 40.91, 40.95] |\n",
    "|            25 | Республіка Крим   |   2020 |     18.79 |     39.47 | [28.35, 29.64, 30.55, 30.76, 31.45, 32.67, 34.24, 35.82, 36.6, 37.05]  |\n"
   ]
  },
  {
   "cell_type": "markdown",
   "metadata": {},
   "source": [
    "Ряд VHI за вказаний діапазон років для вказаних областей, виявити роки протягом яких екстремальні посухи торкнулися більше вказаного відсотка областей по Україні (20% областей - 5 областей з 25)\n",
    "\n",
    "Аналогічно для помірних посух\n"
   ]
  },
  {
   "cell_type": "code",
   "execution_count": null,
   "metadata": {
    "vscode": {
     "languageId": "plaintext"
    }
   },
   "outputs": [],
   "source": [
    "def VHI_extremes(province_ID, year_1, year_2, df):\n",
    "    \n",
    "    PROVINCE_NAME_dict = {1: 'Вінницька',  2: 'Волинська',  3: 'Дніпропетровська',  4: 'Донецька',  5: 'Житомирська',\n",
    "        6: 'Закарпатська',  7: 'Запорізька',  8: 'Івано-Франківська',  9: 'Київська',  10: 'Кіровоградська',\n",
    "        11: 'Луганська',  12: 'Львівська',  13: 'Миколаївська',  14: 'Одеська',  15: 'Полтавська',\n",
    "        16: 'Рівенська',  17: 'Сумська',  18: 'Тернопільська',  19: 'Харківська',  20: 'Херсонська',\n",
    "        21: 'Хмельницька',  22: 'Черкаська',  23: 'Чернівецька',  24: 'Чернігівська',  25: 'Республіка Крим'}\n",
    "    \n",
    "    PROVINCE_NAME = PROVINCE_NAME_dict[province_ID]\n",
    "    \n",
    "    filtered_df = df[(df[\"PROVINCE_ID\"] == province_ID) & (df[\"Year\"] >= year_1) & (df[\"Year\"] <= year_2)]\n",
    "    vhi_values = filtered_df['VHI']  \n",
    "    \n",
    "    return [province_ID, PROVINCE_NAME, year_1, year_2, vhi_values.tolist()[:10]]\n",
    "\n",
    "def check_extreme_and_moderate(df, threshold_percentage, VHI):\n",
    "    extreme_years = []\n",
    "    years = sorted(df['Year'].unique())\n",
    "    total_provinces = len(df['PROVINCE_ID'].unique())\n",
    "\n",
    "    for year in years:\n",
    "        condition = (df['Year'] == year) & (df['VHI'] <= VHI[1]) & (df['VHI'] >= VHI[0]) & (df['VHI'] != -1) \n",
    "        drought_count = df[condition].groupby('PROVINCE_ID').size().count()\n",
    "        if (drought_count / total_provinces) * 100 > threshold_percentage:\n",
    "            extreme_years.append(year)\n",
    "\n",
    "    return extreme_years\n",
    "\n",
    "\n",
    "def Task_main_2():    \n",
    "    directory = \"C:/Users/GORO/Desktop/VHI\"\n",
    "    data_frames_1 = read_data(directory)\n",
    "    data_frames_replace = replace_function(data_frames_1)\n",
    "\n",
    "    year_1 = 1982\n",
    "    year_2 = 2024  \n",
    "        \n",
    "    vhi_extremes_data = []\n",
    "    headers = [\"Province ID\", \"PROVINCE_NAME\", \"Year_Start\", \"Year_End\", \"VHI\"]\n",
    "    \n",
    "    for province_ID in range(1, 11):  \n",
    "        vhi_extremes_data.append(VHI_extremes(province_ID, year_1, year_2, data_frames_replace))    \n",
    "    print(tabulate.tabulate(vhi_extremes_data, headers=headers, tablefmt=\"github\"))\n",
    "\n",
    "    VHI=[0, 15]\n",
    "    extreme_years = check_extreme_and_moderate(data_frames_replace, 19, VHI)  # Extreme droughts\n",
    "    print(f\"=\"*155)\n",
    "    print(f\"Extreme drought years affecting more than 20% of provinces:\", extreme_years)\n",
    "    print(f\"=\"*155)\n",
    "        \n",
    "    VHI=[15, 35]    \n",
    "    moderate_years = check_extreme_and_moderate(data_frames_replace, 20, VHI)  # Moderate droughts\n",
    "    print(f\"Moderate drought years affecting more than 20% of provinces:\", moderate_years)\n",
    "    print(f\"=\"*155)"
   ]
  },
  {
   "cell_type": "code",
   "execution_count": null,
   "metadata": {
    "vscode": {
     "languageId": "plaintext"
    }
   },
   "outputs": [],
   "source": [
    "Task_main_2() "
   ]
  },
  {
   "cell_type": "markdown",
   "metadata": {},
   "source": [
    "|   Province ID | PROVINCE_NAME     |   Year_Start |   Year_End | VHI                                                                    |\n",
    "|---------------|-------------------|--------------|------------|------------------------------------------------------------------------|\n",
    "|             1 | Вінницька         |         1982 |       2024 | [45.9, 45.34, 44.88, 41.6, 39.29, 37.65, 35.03, 34.46, 35.04, 34.33]   |\n",
    "|             2 | Волинська         |         1982 |       2024 | [53.88, 50.97, 45.65, 40.04, 36.44, 35.14, 33.57, 33.23, 33.53, 35.07] |\n",
    "|             3 | Дніпропетровська  |         1982 |       2024 | [51.36, 47.14, 42.35, 38.53, 36.19, 34.71, 33.35, 33.65, 34.17, 34.27] |\n",
    "|             4 | Донецька          |         1982 |       2024 | [55.79, 51.93, 47.95, 43.2, 40.98, 40.76, 39.84, 37.98, 36.65, 35.87]  |\n",
    "|             5 | Житомирська       |         1982 |       2024 | [49.5, 48.62, 48.86, 46.28, 43.61, 41.71, 38.74, 37.61, 36.98, 36.44]  |\n",
    "|             6 | Закарпатська      |         1982 |       2024 | [54.44, 51.13, 45.73, 39.98, 34.6, 31.15, 30.7, 30.09, 29.24, 29.13]   |\n",
    "|             7 | Запорізька        |         1982 |       2024 | [45.61, 43.43, 41.91, 40.26, 38.94, 37.17, 34.99, 34.01, 32.8, 32.98]  |\n",
    "|             8 | Івано-Франківська |         1982 |       2024 | [53.0, 51.39, 49.42, 46.4, 42.96, 40.47, 39.22, 39.19, 38.83, 37.91]   |\n",
    "|             9 | Київська          |         1982 |       2024 | [47.76, 45.62, 44.03, 42.11, 40.3, 38.04, 35.11, 33.71, 32.97, 32.27]  |\n",
    "|            10 | Кіровоградська    |         1982 |       2024 | [39.23, 35.78, 33.64, 31.06, 30.08, 29.69, 29.55, 30.79, 32.42, 33.33] |\n",
    "===========================================================================================================================================================\n",
    "Extreme drought years affecting more than 20% of provinces: [np.int64(2007)]\n",
    "===========================================================================================================================================================\n",
    "Moderate drought years affecting more than 20% of provinces: [np.int64(1982), np.int64(1983), np.int64(1984), np.int64(1985), np.int64(1986), np.int64(1987), np.int64(1988), np.int64(1989), np.int64(1990), np.int64(1991), np.int64(1992), np.int64(1993), np.int64(1994), np.int64(1995), np.int64(1996), np.int64(1997), np.int64(1998), np.int64(1999), np.int64(2000), np.int64(2001), np.int64(2002), np.int64(2003), np.int64(2005), np.int64(2006), np.int64(2007), np.int64(2008), np.int64(2009), np.int64(2010), np.int64(2011), np.int64(2012), np.int64(2013), np.int64(2014), np.int64(2015), np.int64(2016), np.int64(2017), np.int64(2018), np.int64(2019), np.int64(2020), np.int64(2021), np.int64(2022), np.int64(2023), np.int64(2024), np.int64(2025)]\n",
    "==========================================================================================================================================================="
   ]
  }
 ],
 "metadata": {
  "language_info": {
   "name": "python"
  }
 },
 "nbformat": 4,
 "nbformat_minor": 2
}
